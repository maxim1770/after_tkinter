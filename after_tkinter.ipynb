{
 "cells": [
  {
   "cell_type": "code",
   "execution_count": 1,
   "metadata": {},
   "outputs": [],
   "source": [
    "from tkinter import *\n",
    "from tkinter import ttk"
   ]
  },
  {
   "cell_type": "code",
   "execution_count": 2,
   "metadata": {},
   "outputs": [],
   "source": [
    "def start():\n",
    "    alist = enter.get().split()\n",
    "    alist = [int(x) for x in alist]\n",
    "\n",
    "    if len(lab_list) > 0:\n",
    "        for i in range(len(lab_list)):\n",
    "            lab_list[0].after(1, lab_list[0].destroy())\n",
    "            lab_list.pop(0)\n",
    "\n",
    "    for i in range(len(alist)):\n",
    "        a = Label(mainframe, text=str(alist[i]))\n",
    "        a.grid(column=1, row=3 + i, sticky=W)\n",
    "        lab_list.append(a)\n",
    "    buton.state([\"disabled\"])\n",
    "    enter_entry.state([\"disabled\"])\n",
    "    root.after(1, step(alist))\n",
    "    \n",
    "def step(alist, i=1):\n",
    "    if i < len(alist):\n",
    "        temp = alist[i]\n",
    "        j = i - 1\n",
    "        while j >= 0 and temp < alist[j]:\n",
    "            alist[j + 1] = alist[j]\n",
    "            j = j - 1\n",
    "        alist[j + 1] = temp\n",
    "        for k in range(len(lab_list)):\n",
    "            lab_list[k].configure(text=str(alist[k]))\n",
    "        i += 1\n",
    "        print(alist)\n",
    "        root.update_idletasks()\n",
    "        root.after(1000)\n",
    "        root.after(1, lambda: step(alist, i))\n",
    "    if i == len(alist):\n",
    "        print(alist)\n",
    "        buton.state([\"!disabled\"])\n",
    "        enter_entry.state([\"!disabled\"])\n",
    "        for k in range(len(alist)):\n",
    "            lab_list[k].configure(background=\"#99ff99\")\n",
    "        return"
   ]
  },
  {
   "cell_type": "code",
   "execution_count": 4,
   "metadata": {},
   "outputs": [
    {
     "name": "stdout",
     "output_type": "stream",
     "text": [
      "[-1, 2, -7, 8, 4]\n",
      "[-7, -1, 2, 8, 4]\n",
      "[-7, -1, 2, 8, 4]\n",
      "[-7, -1, 2, 4, 8]\n",
      "[-7, -1, 2, 4, 8]\n",
      "[-7, -1, 2, 4, 8]\n"
     ]
    }
   ],
   "source": [
    "root = Tk() \n",
    "root.title(\"Графика\")\n",
    "root.geometry('400x400')\n",
    "\n",
    "mainframe = ttk.Frame(root, padding=\"3 3 12 12\")  \n",
    "mainframe.grid(column=0, row=0, sticky=(N, W, E, S))\n",
    "root.columnconfigure(0, weight=1)\n",
    "root.rowconfigure(0, weight=1)\n",
    "\n",
    "Label(mainframe, text='ввод: ').grid(column=1, row=1, sticky=W)\n",
    "\n",
    "enter = StringVar()\n",
    "enter_entry = ttk.Entry(mainframe, width=7, textvariable=enter)\n",
    "enter_entry.grid(column=2, row=1, sticky=(W, E))\n",
    "\n",
    "buton = ttk.Button(mainframe, text=\"кнопка\", command=start)\n",
    "buton.grid(column=2, row=2, sticky=W)\n",
    "\n",
    "#massiv = Label(mainframe, text='')\n",
    "#massiv.grid(column=1, row=3, sticky=W)\n",
    "\n",
    "lab_list = []\n",
    "\n",
    "for child in mainframe.winfo_children():\n",
    "    child.grid_configure(padx=5, pady=5)\n",
    "\n",
    "root.mainloop()\n"
   ]
  }
 ],
 "metadata": {
  "kernelspec": {
   "display_name": "Python 3.9.7 ('base')",
   "language": "python",
   "name": "python3"
  },
  "language_info": {
   "codemirror_mode": {
    "name": "ipython",
    "version": 3
   },
   "file_extension": ".py",
   "mimetype": "text/x-python",
   "name": "python",
   "nbconvert_exporter": "python",
   "pygments_lexer": "ipython3",
   "version": "3.9.7"
  },
  "orig_nbformat": 4,
  "vscode": {
   "interpreter": {
    "hash": "1bc342da20f6f38dcb8ca582bfbdfa6235f2efb3475ada79a69f540a27e276eb"
   }
  }
 },
 "nbformat": 4,
 "nbformat_minor": 2
}
